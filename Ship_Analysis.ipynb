{
 "cells": [
  {
   "cell_type": "code",
   "execution_count": null,
   "metadata": {},
   "outputs": [],
   "source": []
  },
  {
   "cell_type": "markdown",
   "metadata": {},
   "source": [
    "#  Based on Anna-Marrie's code used for own learning"
   ]
  },
  {
   "cell_type": "markdown",
   "metadata": {},
   "source": [
    "#  Ship Image Recognition"
   ]
  },
  {
   "cell_type": "markdown",
   "metadata": {},
   "source": [
    "In this notebook we are going to build a predictive classification model for recognizing ships from Satellite imagery.\n",
    "\n",
    "The aim of this dataset is to help address the difficult task of detecting the location of large ships in satellite images. Automating this process can be applied to many issues including monitoring port activity levels and supply chain analysis.\n",
    "\n",
    "\n",
    "**Introduction to Satellite Image Processing**\n",
    "<br>\n",
    "Satellite imagery provides unique insights into various markets, including agriculture, defense and intelligence, energy, and finance. New commercial imagery providers, such as Planet, are using constellations of small satellites to capture images of the entire Earth every day. This flood of new imagery is outgrowing the ability for organizations to manually look at each image that gets captured, and there is a need for machine learning and computer vision algorithms to help automate the analysis process."
   ]
  },
  {
   "cell_type": "markdown",
   "metadata": {},
   "source": [
    "#  Set Up"
   ]
  },
  {
   "cell_type": "code",
   "execution_count": 49,
   "metadata": {},
   "outputs": [],
   "source": [
    "# Data Manipulation & analysis\n",
    "import json\n",
    "import pandas as pd\n",
    "import numpy as np\n",
    "from scipy import stats\n",
    "\n",
    "# Visualizations\n",
    "from matplotlib import pyplot as plt\n",
    "\n",
    "# Data Preparation\n",
    "from sklearn.model_selection import train_test_split\n",
    "\n",
    "# Modeling\n",
    "from sklearn.feature_selection import RFE, SelectFromModel\n",
    "from sklearn.linear_model import LogisticRegression\n",
    "import sklearn\n",
    "from sklearn.model_selection import cross_val_score, StratifiedKFold, RandomizedSearchCV\n",
    "from sklearn import preprocessing\n",
    "from sklearn.ensemble import RandomForestClassifier\n",
    "from sklearn import ensemble\n",
    "from sklearn.tree import DecisionTreeClassifier\n",
    "from sklearn.neighbors import KNeighborsClassifier\n",
    "from sklearn.naive_bayes import GaussianNB\n",
    "import xgboost as xgb # In terminal: pip install xgboost\n",
    "from xgboost import XGBClassifier\n",
    "\n",
    "# Evaluation\n",
    "from sklearn.model_selection import cross_validate, KFold\n",
    "from sklearn.metrics import recall_score, roc_auc_score, confusion_matrix, precision_score, f1_score, accuracy_score, classification_report\n",
    "\n",
    "# GIS-Specific\n",
    "from skimage import color\n",
    "from skimage.feature import hog\n",
    "\n",
    "# Other Set Up\n",
    "from datetime import datetime\n",
    "import os\n",
    "import warnings\n",
    "from pprint import pprint\n",
    "\n",
    "# Set Random Seed\n",
    "np.random.seed(42)"
   ]
  },
  {
   "cell_type": "markdown",
   "metadata": {},
   "source": [
    "#  Data Understanding"
   ]
  },
  {
   "cell_type": "markdown",
   "metadata": {},
   "source": [
    "The dataset consists of image chips extracted from Planet satellite imagery collected over the San Francisco Bay and San Pedro Bay areas of California. It includes 4000 80x80 RGB images labeled with either a \"ship\" or \"no-ship\" classification. Image chips were derived from PlanetScope full-frame visual scene products, which are orthorectified to a 3 meter pixel size.\n",
    "\n",
    "Provided is a zipped directory shipsnet.zip that contains the entire dataset as .png image chips. Each individual image filename follows a specific format: {label} __ {scene id} __ {longitude} _ {latitude}.png\n",
    "\n",
    "- label: Valued 1 or 0, representing the \"ship\" class and \"no-ship\" class, respectively.\n",
    "- scene id: The unique identifier of the PlanetScope visual scene the image chip was extracted from. The scene id can be used with the Planet API to discover and download the entire scene.\n",
    "- longitude_latitude: The longitude and latitude coordinates of the image center point, with values separated by a single underscore.\n",
    "\n",
    "The pixel value data for each 80x80 RGB image is stored as a list of 19200 integers within the data list. The first 6400 entries contain the red channel values, the next 6400 the green, and the final 6400 the blue. The image is stored in row-major order, so that the first 80 entries of the array are the red channel values of the first row of the image.\n",
    "\n",
    "The list values at index i in labels, scene_ids, and locations each correspond to the i-th image in the data list."
   ]
  },
  {
   "cell_type": "code",
   "execution_count": 7,
   "metadata": {
    "_cell_guid": "050ea734-d768-4c11-9055-3927e76fb4db",
    "_uuid": "323810beeed04ac01affae755fea578adab6e0c6"
   },
   "outputs": [
    {
     "data": {
      "text/plain": [
       "dict_keys(['data', 'labels', 'locations', 'scene_ids'])"
      ]
     },
     "execution_count": 7,
     "metadata": {},
     "output_type": "execute_result"
    }
   ],
   "source": [
    "# Open the directory path in which the json file is stored\n",
    "path = '../ships/shipsnet.json'\n",
    "\n",
    "with open(path) as file:\n",
    "    dataset = json.load(file)\n",
    "\n",
    "#Display the main keys where data is stored\n",
    "dataset.keys()"
   ]
  },
  {
   "cell_type": "code",
   "execution_count": 9,
   "metadata": {},
   "outputs": [],
   "source": [
    "# Load json data as DataFrame\n",
    "ships_df= pd.DataFrame(dataset)"
   ]
  },
  {
   "cell_type": "code",
   "execution_count": 17,
   "metadata": {},
   "outputs": [
    {
     "data": {
      "text/html": [
       "<div>\n",
       "<style scoped>\n",
       "    .dataframe tbody tr th:only-of-type {\n",
       "        vertical-align: middle;\n",
       "    }\n",
       "\n",
       "    .dataframe tbody tr th {\n",
       "        vertical-align: top;\n",
       "    }\n",
       "\n",
       "    .dataframe thead th {\n",
       "        text-align: right;\n",
       "    }\n",
       "</style>\n",
       "<table border=\"1\" class=\"dataframe\">\n",
       "  <thead>\n",
       "    <tr style=\"text-align: right;\">\n",
       "      <th></th>\n",
       "      <th>data</th>\n",
       "      <th>labels</th>\n",
       "      <th>locations</th>\n",
       "      <th>scene_ids</th>\n",
       "    </tr>\n",
       "  </thead>\n",
       "  <tbody>\n",
       "    <tr>\n",
       "      <th>3000</th>\n",
       "      <td>[139, 136, 134, 134, 134, 132, 135, 134, 125, ...</td>\n",
       "      <td>0</td>\n",
       "      <td>[-122.24194756594893, 37.719697389134595]</td>\n",
       "      <td>20170602_010249_0c44</td>\n",
       "    </tr>\n",
       "    <tr>\n",
       "      <th>3001</th>\n",
       "      <td>[116, 111, 113, 108, 98, 95, 99, 105, 106, 104...</td>\n",
       "      <td>0</td>\n",
       "      <td>[-122.40001517542525, 37.6960287584367]</td>\n",
       "      <td>20170505_181258_0e2f</td>\n",
       "    </tr>\n",
       "    <tr>\n",
       "      <th>3002</th>\n",
       "      <td>[107, 109, 116, 121, 120, 113, 111, 122, 144, ...</td>\n",
       "      <td>0</td>\n",
       "      <td>[-122.16455479704005, 37.80632124815938]</td>\n",
       "      <td>20170730_191231_0f21</td>\n",
       "    </tr>\n",
       "    <tr>\n",
       "      <th>3003</th>\n",
       "      <td>[108, 110, 112, 114, 106, 114, 117, 113, 119, ...</td>\n",
       "      <td>0</td>\n",
       "      <td>[-122.37168169222907, 37.74690485775517]</td>\n",
       "      <td>20170129_181027_0e1f</td>\n",
       "    </tr>\n",
       "    <tr>\n",
       "      <th>3004</th>\n",
       "      <td>[101, 107, 110, 106, 108, 105, 107, 113, 112, ...</td>\n",
       "      <td>0</td>\n",
       "      <td>[-122.43919822115103, 37.865325923311175]</td>\n",
       "      <td>20170706_181011_1006</td>\n",
       "    </tr>\n",
       "    <tr>\n",
       "      <th>...</th>\n",
       "      <td>...</td>\n",
       "      <td>...</td>\n",
       "      <td>...</td>\n",
       "      <td>...</td>\n",
       "    </tr>\n",
       "    <tr>\n",
       "      <th>3995</th>\n",
       "      <td>[126, 122, 124, 138, 165, 186, 195, 199, 203, ...</td>\n",
       "      <td>0</td>\n",
       "      <td>[-122.08693255500694, 37.77781408256089]</td>\n",
       "      <td>20170815_180821_102d</td>\n",
       "    </tr>\n",
       "    <tr>\n",
       "      <th>3996</th>\n",
       "      <td>[130, 134, 139, 128, 117, 126, 141, 147, 142, ...</td>\n",
       "      <td>0</td>\n",
       "      <td>[-122.10549691828378, 37.76946626247702]</td>\n",
       "      <td>20170730_191230_0f21</td>\n",
       "    </tr>\n",
       "    <tr>\n",
       "      <th>3997</th>\n",
       "      <td>[171, 135, 118, 140, 145, 144, 154, 165, 139, ...</td>\n",
       "      <td>0</td>\n",
       "      <td>[-122.48298739296371, 37.684929808845375]</td>\n",
       "      <td>20161116_180804_0e14</td>\n",
       "    </tr>\n",
       "    <tr>\n",
       "      <th>3998</th>\n",
       "      <td>[85, 90, 94, 95, 94, 92, 93, 96, 93, 94, 94, 9...</td>\n",
       "      <td>0</td>\n",
       "      <td>[-122.29028216570079, 37.71632091139081]</td>\n",
       "      <td>20170211_181116_0e16</td>\n",
       "    </tr>\n",
       "    <tr>\n",
       "      <th>3999</th>\n",
       "      <td>[122, 122, 126, 126, 142, 153, 174, 190, 185, ...</td>\n",
       "      <td>0</td>\n",
       "      <td>[-122.49531387721586, 37.698557210117706]</td>\n",
       "      <td>20180206_184438_1043</td>\n",
       "    </tr>\n",
       "  </tbody>\n",
       "</table>\n",
       "<p>1000 rows × 4 columns</p>\n",
       "</div>"
      ],
      "text/plain": [
       "                                                   data  labels  \\\n",
       "3000  [139, 136, 134, 134, 134, 132, 135, 134, 125, ...       0   \n",
       "3001  [116, 111, 113, 108, 98, 95, 99, 105, 106, 104...       0   \n",
       "3002  [107, 109, 116, 121, 120, 113, 111, 122, 144, ...       0   \n",
       "3003  [108, 110, 112, 114, 106, 114, 117, 113, 119, ...       0   \n",
       "3004  [101, 107, 110, 106, 108, 105, 107, 113, 112, ...       0   \n",
       "...                                                 ...     ...   \n",
       "3995  [126, 122, 124, 138, 165, 186, 195, 199, 203, ...       0   \n",
       "3996  [130, 134, 139, 128, 117, 126, 141, 147, 142, ...       0   \n",
       "3997  [171, 135, 118, 140, 145, 144, 154, 165, 139, ...       0   \n",
       "3998  [85, 90, 94, 95, 94, 92, 93, 96, 93, 94, 94, 9...       0   \n",
       "3999  [122, 122, 126, 126, 142, 153, 174, 190, 185, ...       0   \n",
       "\n",
       "                                      locations             scene_ids  \n",
       "3000  [-122.24194756594893, 37.719697389134595]  20170602_010249_0c44  \n",
       "3001    [-122.40001517542525, 37.6960287584367]  20170505_181258_0e2f  \n",
       "3002   [-122.16455479704005, 37.80632124815938]  20170730_191231_0f21  \n",
       "3003   [-122.37168169222907, 37.74690485775517]  20170129_181027_0e1f  \n",
       "3004  [-122.43919822115103, 37.865325923311175]  20170706_181011_1006  \n",
       "...                                         ...                   ...  \n",
       "3995   [-122.08693255500694, 37.77781408256089]  20170815_180821_102d  \n",
       "3996   [-122.10549691828378, 37.76946626247702]  20170730_191230_0f21  \n",
       "3997  [-122.48298739296371, 37.684929808845375]  20161116_180804_0e14  \n",
       "3998   [-122.29028216570079, 37.71632091139081]  20170211_181116_0e16  \n",
       "3999  [-122.49531387721586, 37.698557210117706]  20180206_184438_1043  \n",
       "\n",
       "[1000 rows x 4 columns]"
      ]
     },
     "execution_count": 17,
     "metadata": {},
     "output_type": "execute_result"
    }
   ],
   "source": [
    "ships_df.tail(1000)"
   ]
  },
  {
   "cell_type": "code",
   "execution_count": 11,
   "metadata": {},
   "outputs": [
    {
     "name": "stdout",
     "output_type": "stream",
     "text": [
      "Rows : 4000\n",
      "Columns : 19200\n"
     ]
    }
   ],
   "source": [
    "# Print data dimensions\n",
    "print(\"Rows :\", len(ships_df['data'])) \n",
    "print(\"Columns :\", len(ships_df['data'][0]))"
   ]
  },
  {
   "cell_type": "code",
   "execution_count": 12,
   "metadata": {},
   "outputs": [],
   "source": [
    "# Seperate data and save as array\n",
    "x = np.array(dataset['data']).astype('uint8')\n",
    "y = np.array(dataset['labels']).astype('uint8')"
   ]
  },
  {
   "cell_type": "code",
   "execution_count": 14,
   "metadata": {},
   "outputs": [
    {
     "data": {
      "text/plain": [
       "array([[ 82,  89,  91,  87,  89],\n",
       "       [ 76,  75,  67,  62,  68],\n",
       "       [125, 127, 129, 130, 126],\n",
       "       [102,  99, 113, 106,  96],\n",
       "       [ 78,  76,  74,  78,  79]], dtype=uint8)"
      ]
     },
     "execution_count": 14,
     "metadata": {},
     "output_type": "execute_result"
    }
   ],
   "source": [
    "x[:5, :5]"
   ]
  },
  {
   "cell_type": "code",
   "execution_count": 15,
   "metadata": {},
   "outputs": [
    {
     "data": {
      "text/plain": [
       "array([1, 1, 1, 1, 1], dtype=uint8)"
      ]
     },
     "execution_count": 15,
     "metadata": {},
     "output_type": "execute_result"
    }
   ],
   "source": [
    "y[:5]"
   ]
  },
  {
   "cell_type": "code",
   "execution_count": 21,
   "metadata": {},
   "outputs": [
    {
     "name": "stdout",
     "output_type": "stream",
     "text": [
      "Total number of images: 4000\n",
      "Number of NoShip Images: 3000\n",
      "Number of Ship Images: 1000\n",
      "Percentage of positive images: 25.00%\n",
      "Image shape (Width, Height, Channels): (19200,)\n"
     ]
    }
   ],
   "source": [
    "# Print Descriptions\n",
    "def describeData(x,y):\n",
    "    print('Total number of images: {}'.format(len(x)))\n",
    "    print('Number of NoShip Images: {}'.format(np.sum(y==0)))\n",
    "    print('Number of Ship Images: {}'.format(np.sum(y==1)))\n",
    "    print('Percentage of positive images: {:.2f}%'.format(100*np.mean(y)))\n",
    "    print('Image shape (Width, Height, Channels): {}'.format(x[0].shape))\n",
    "describeData(x,y)"
   ]
  },
  {
   "cell_type": "markdown",
   "metadata": {},
   "source": [
    "### Prepare data for visualising samples"
   ]
  },
  {
   "cell_type": "code",
   "execution_count": 22,
   "metadata": {},
   "outputs": [],
   "source": [
    "## converts a class vector (integers) to binary class matrix\n",
    "def to_categorical(y, num_classes=None, dtype='float32'):\n",
    "  y = np.array(y, dtype='int')\n",
    "  input_shape = y.shape\n",
    "  if input_shape and input_shape[-1] == 1 and len(input_shape) > 1:\n",
    "    input_shape = tuple(input_shape[:-1])\n",
    "  y = y.ravel()\n",
    "  if not num_classes:\n",
    "    num_classes = np.max(y) + 1\n",
    "  n = y.shape[0]\n",
    "  categorical = np.zeros((n, num_classes), dtype=dtype)\n",
    "  categorical[np.arange(n), y] = 1\n",
    "  output_shape = input_shape + (num_classes,)\n",
    "  categorical = np.reshape(categorical, output_shape)\n",
    "  return categorical\n"
   ]
  },
  {
   "cell_type": "code",
   "execution_count": 29,
   "metadata": {},
   "outputs": [
    {
     "data": {
      "text/plain": [
       "<matplotlib.image.AxesImage at 0x251743d4c08>"
      ]
     },
     "execution_count": 29,
     "metadata": {},
     "output_type": "execute_result"
    },
    {
     "data": {
      "image/png": "[encoded data removed]",
      "text/plain": [
       "<Figure size 432x288 with 1 Axes>"
      ]
     },
     "metadata": {
      "needs_background": "light"
     },
     "output_type": "display_data"
    }
   ],
   "source": [
    "# RGB spectrums\n",
    "n_spectrums = 3 \n",
    "\n",
    "# Chose 80x80 cm dimension for each image\n",
    "img_length = 80\n",
    "\n",
    "# Data willl be split to 3 spectrums in which each of the 3 spectrums will contain the 2D dimensions of each image\n",
    "# -1 for numpy to calculate the number of dimensions needed to split the data to\n",
    "xReshaped = x.reshape([-1, n_spectrums, img_length, img_length]).transpose([0,2,3,1])\n",
    "yReshaped = to_categorical(y, num_classes=2)\n",
    "\n",
    "# View one image at random\n",
    "plt.imshow(xReshaped[321])"
   ]
  },
  {
   "cell_type": "code",
   "execution_count": 30,
   "metadata": {},
   "outputs": [],
   "source": [
    "# Define Plot histogram of RGB Pixel Intensities\n",
    "def plotHistogram(a):\n",
    "    plt.figure(figsize=(10,5))\n",
    "    plt.subplot(1,2,1)\n",
    "    plt.imshow(a)\n",
    "    plt.axis('off')\n",
    "    plt.title('Ship' if y[1] else 'Not A Ship')\n",
    "    histo = plt.subplot(1,2,2)\n",
    "    histo.set_ylabel('Count')\n",
    "    histo.set_xlabel('Pixel Intensity')\n",
    "    n_bins = 30\n",
    "    plt.hist(a[:,:,0].flatten(), bins= n_bins, lw = 0, color='r', alpha=0.5);\n",
    "    plt.hist(a[:,:,1].flatten(), bins= n_bins, lw = 0, color='g', alpha=0.5);\n",
    "    plt.hist(a[:,:,2].flatten(), bins= n_bins, lw = 0, color='b', alpha=0.5);"
   ]
  },
  {
   "cell_type": "code",
   "execution_count": 42,
   "metadata": {},
   "outputs": [
    {
     "data": {
      "image/png": "[encoded data removed]",
      "text/plain": [
       "<Figure size 720x360 with 2 Axes>"
      ]
     },
     "metadata": {
      "needs_background": "light"
     },
     "output_type": "display_data"
    }
   ],
   "source": [
    "# Plot Histogram for a sample \n",
    "plotHistogram(xReshaped[2347])"
   ]
  },
  {
   "cell_type": "code",
   "execution_count": 44,
   "metadata": {},
   "outputs": [
    {
     "data": {
      "image/png": "[encoded data removed]",
      "text/plain": [
       "<Figure size 432x288 with 1 Axes>"
      ]
     },
     "metadata": {
      "needs_background": "light"
     },
     "output_type": "display_data"
    }
   ],
   "source": [
    "# Show in Greyscale\n",
    "plt.imshow(color.rgb2gray(xReshaped[2347]))\n",
    "plt.set_cmap('Greys')"
   ]
  },
  {
   "cell_type": "code",
   "execution_count": null,
   "metadata": {},
   "outputs": [],
   "source": []
  },
  {
   "cell_type": "markdown",
   "metadata": {},
   "source": [
    "#  Data Preparation"
   ]
  },
  {
   "cell_type": "markdown",
   "metadata": {},
   "source": [
    "**Normalisation**"
   ]
  },
  {
   "cell_type": "code",
   "execution_count": 45,
   "metadata": {},
   "outputs": [],
   "source": [
    "# Scale by 255.0 to convert RGB pixel values to floats.\n",
    "x = x / 255.0"
   ]
  },
  {
   "cell_type": "code",
   "execution_count": 46,
   "metadata": {},
   "outputs": [
    {
     "data": {
      "text/plain": [
       "array([[0.32156863, 0.34901961, 0.35686275, ..., 0.3372549 , 0.34509804,\n",
       "        0.34901961],\n",
       "       [0.29803922, 0.29411765, 0.2627451 , ..., 0.21176471, 0.22352941,\n",
       "        0.22745098],\n",
       "       [0.49019608, 0.49803922, 0.50588235, ..., 0.43529412, 0.42745098,\n",
       "        0.45098039],\n",
       "       [0.4       , 0.38823529, 0.44313725, ..., 0.36862745, 0.37254902,\n",
       "        0.30196078],\n",
       "       [0.30588235, 0.29803922, 0.29019608, ..., 0.33333333, 0.3372549 ,\n",
       "        0.3254902 ]])"
      ]
     },
     "execution_count": 46,
     "metadata": {},
     "output_type": "execute_result"
    }
   ],
   "source": [
    "x[:5]"
   ]
  },
  {
   "cell_type": "markdown",
   "metadata": {},
   "source": [
    "**Splitting**"
   ]
  },
  {
   "cell_type": "code",
   "execution_count": 47,
   "metadata": {},
   "outputs": [],
   "source": [
    "# Split data 80:20\n",
    "x_train,x_test,y_train,y_test = train_test_split(x,y,test_size = 0.2 ,random_state = 123)"
   ]
  },
  {
   "cell_type": "markdown",
   "metadata": {},
   "source": [
    "**Image Enhancement**"
   ]
  },
  {
   "cell_type": "code",
   "execution_count": 19,
   "metadata": {},
   "outputs": [],
   "source": [
    "# Image enhancement is the process of adjusting digital images so that the results are more suitable\n",
    "# for display or further image analysis.\n",
    "\n",
    "############################\n",
    "## TRY DIFFERENT METHODS ###\n",
    "############################"
   ]
  },
  {
   "cell_type": "markdown",
   "metadata": {},
   "source": [
    "**Feature Extraction**"
   ]
  },
  {
   "cell_type": "code",
   "execution_count": 21,
   "metadata": {},
   "outputs": [],
   "source": [
    "# Feature descriptors are representations of an image or an image patch that simplifies the image\n",
    "# by extracting useful information and throwing away extraneous information.\n",
    "\n",
    "#############################\n",
    "## TRY FEATURE DESCRIPTORS ##\n",
    "#############################"
   ]
  },
  {
   "cell_type": "markdown",
   "metadata": {},
   "source": [
    "# Modeling"
   ]
  },
  {
   "cell_type": "markdown",
   "metadata": {},
   "source": [
    "**Model Selection**"
   ]
  },
  {
   "cell_type": "code",
   "execution_count": 50,
   "metadata": {},
   "outputs": [],
   "source": [
    "# Model Selection based on popular Machine Learning models & 3-fold cross-validation\n",
    "def modelSelection(a,b):   \n",
    "    # Define Scoring Metrics\n",
    "    scoring = ['roc_auc', 'accuracy','precision', 'recall']\n",
    "    # Define Models\n",
    "    models = []\n",
    "    models.append(('LR', LogisticRegression()))\n",
    "#    models.append(('RF', RandomForestClassifier()))\n",
    "#     models.append(('KNN', KNeighborsClassifier()))\n",
    "#     models.append(('GNB', GaussianNB()))\n",
    "    models.append(('DTC', DecisionTreeClassifier()))\n",
    "#    models.append(('XGB', XGBClassifier())) \n",
    "    names = []\n",
    "    results = []\n",
    "    # Cross Validate Models\n",
    "    for name, model in models:\n",
    "        scores = cross_validate(model, a, b, cv=3, scoring=scoring)\n",
    "        resultsMessage = \"%s: AUC %f Accuracy %f Precision %f Recall %f\"  % ((name,\n",
    "                       scores['test_roc_auc'].mean(),\n",
    "                       scores['test_accuracy'].mean(),\n",
    "                       scores['test_precision'].mean(),\n",
    "                       scores['test_recall'].mean()))\n",
    "        print(resultsMessage)\n",
    "    return"
   ]
  },
  {
   "cell_type": "code",
   "execution_count": 51,
   "metadata": {},
   "outputs": [
    {
     "name": "stderr",
     "output_type": "stream",
     "text": [
      "C:\\Users\\Abdulaziz\\AppData\\Roaming\\Python\\Python37\\site-packages\\sklearn\\linear_model\\_logistic.py:940: ConvergenceWarning: lbfgs failed to converge (status=1):\n",
      "STOP: TOTAL NO. of ITERATIONS REACHED LIMIT.\n",
      "\n",
      "Increase the number of iterations (max_iter) or scale the data as shown in:\n",
      "    https://scikit-learn.org/stable/modules/preprocessing.html\n",
      "Please also refer to the documentation for alternative solver options:\n",
      "    https://scikit-learn.org/stable/modules/linear_model.html#logistic-regression\n",
      "  extra_warning_msg=_LOGISTIC_SOLVER_CONVERGENCE_MSG)\n",
      "C:\\Users\\Abdulaziz\\AppData\\Roaming\\Python\\Python37\\site-packages\\sklearn\\linear_model\\_logistic.py:940: ConvergenceWarning: lbfgs failed to converge (status=1):\n",
      "STOP: TOTAL NO. of ITERATIONS REACHED LIMIT.\n",
      "\n",
      "Increase the number of iterations (max_iter) or scale the data as shown in:\n",
      "    https://scikit-learn.org/stable/modules/preprocessing.html\n",
      "Please also refer to the documentation for alternative solver options:\n",
      "    https://scikit-learn.org/stable/modules/linear_model.html#logistic-regression\n",
      "  extra_warning_msg=_LOGISTIC_SOLVER_CONVERGENCE_MSG)\n",
      "C:\\Users\\Abdulaziz\\AppData\\Roaming\\Python\\Python37\\site-packages\\sklearn\\linear_model\\_logistic.py:940: ConvergenceWarning: lbfgs failed to converge (status=1):\n",
      "STOP: TOTAL NO. of ITERATIONS REACHED LIMIT.\n",
      "\n",
      "Increase the number of iterations (max_iter) or scale the data as shown in:\n",
      "    https://scikit-learn.org/stable/modules/preprocessing.html\n",
      "Please also refer to the documentation for alternative solver options:\n",
      "    https://scikit-learn.org/stable/modules/linear_model.html#logistic-regression\n",
      "  extra_warning_msg=_LOGISTIC_SOLVER_CONVERGENCE_MSG)\n"
     ]
    },
    {
     "name": "stdout",
     "output_type": "stream",
     "text": [
      "LR: AUC 0.944573 Accuracy 0.901877 Precision 0.783327 Recall 0.843547\n",
      "DTC: AUC 0.870703 Accuracy 0.896564 Precision 0.781088 Recall 0.818648\n"
     ]
    }
   ],
   "source": [
    "# Compare metrics\n",
    "warnings.simplefilter(action='ignore', category=FutureWarning) # Hide warnings\n",
    "\n",
    "modelSelection(x_train,y_train)"
   ]
  },
  {
   "cell_type": "code",
   "execution_count": null,
   "metadata": {},
   "outputs": [],
   "source": []
  },
  {
   "cell_type": "markdown",
   "metadata": {},
   "source": [
    "# Evaluation"
   ]
  },
  {
   "cell_type": "code",
   "execution_count": 52,
   "metadata": {},
   "outputs": [
    {
     "name": "stderr",
     "output_type": "stream",
     "text": [
      "C:\\Users\\Abdulaziz\\AppData\\Roaming\\Python\\Python37\\site-packages\\sklearn\\linear_model\\_logistic.py:940: ConvergenceWarning: lbfgs failed to converge (status=1):\n",
      "STOP: TOTAL NO. of ITERATIONS REACHED LIMIT.\n",
      "\n",
      "Increase the number of iterations (max_iter) or scale the data as shown in:\n",
      "    https://scikit-learn.org/stable/modules/preprocessing.html\n",
      "Please also refer to the documentation for alternative solver options:\n",
      "    https://scikit-learn.org/stable/modules/linear_model.html#logistic-regression\n",
      "  extra_warning_msg=_LOGISTIC_SOLVER_CONVERGENCE_MSG)\n"
     ]
    }
   ],
   "source": [
    "# Fit the final model\n",
    "finalmodel = LogisticRegression().fit(x_train, y_train)"
   ]
  },
  {
   "cell_type": "code",
   "execution_count": 25,
   "metadata": {},
   "outputs": [],
   "source": [
    "# Make sure to apply any data preparation on test data as well (x_test,y_test)"
   ]
  },
  {
   "cell_type": "code",
   "execution_count": 53,
   "metadata": {},
   "outputs": [],
   "source": [
    "# Use final model to predict on test set\n",
    "y_pred = finalmodel.predict(x_test)"
   ]
  },
  {
   "cell_type": "code",
   "execution_count": 54,
   "metadata": {},
   "outputs": [
    {
     "name": "stdout",
     "output_type": "stream",
     "text": [
      "Accuracy: 0.93125\n",
      "\n",
      "\n",
      "              precision    recall  f1-score   support\n",
      "\n",
      "           0       0.95      0.96      0.95       605\n",
      "           1       0.86      0.86      0.86       195\n",
      "\n",
      "    accuracy                           0.93       800\n",
      "   macro avg       0.91      0.91      0.91       800\n",
      "weighted avg       0.93      0.93      0.93       800\n",
      "\n",
      "\n",
      "\n",
      "Confusion Matrix\n",
      "[[578  27]\n",
      " [ 28 167]]\n"
     ]
    }
   ],
   "source": [
    "# Print Evaluation metrics\n",
    "print(\"Accuracy: \"+str(accuracy_score(y_test, y_pred)))\n",
    "print('\\n')\n",
    "print(classification_report(y_test, y_pred))\n",
    "print('\\n')\n",
    "print('Confusion Matrix')\n",
    "print(confusion_matrix(y_test,y_pred))"
   ]
  },
  {
   "cell_type": "code",
   "execution_count": null,
   "metadata": {},
   "outputs": [],
   "source": []
  }
 ],
 "metadata": {
  "kernelspec": {
   "display_name": "Python 3",
   "language": "python",
   "name": "python3"
  },
  "language_info": {
   "codemirror_mode": {
    "name": "ipython",
    "version": 3
   },
   "file_extension": ".py",
   "mimetype": "text/x-python",
   "name": "python",
   "nbconvert_exporter": "python",
   "pygments_lexer": "ipython3",
   "version": "3.7.6"
  }
 },
 "nbformat": 4,
 "nbformat_minor": 4
}
